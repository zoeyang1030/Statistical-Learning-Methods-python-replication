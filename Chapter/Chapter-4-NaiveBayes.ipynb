{
 "nbformat": 4,
 "nbformat_minor": 2,
 "metadata": {
  "language_info": {
   "name": "python",
   "codemirror_mode": {
    "name": "ipython",
    "version": 3
   },
   "version": "3.7.4-final"
  },
  "orig_nbformat": 2,
  "file_extension": ".py",
  "mimetype": "text/x-python",
  "name": "python",
  "npconvert_exporter": "python",
  "pygments_lexer": "ipython3",
  "version": 3,
  "kernelspec": {
   "name": "python37464bitbaseconda0c8cb556295c44719dd6dd7f140f6a1f",
   "display_name": "Python 3.7.4 64-bit ('base': conda)"
  }
 },
 "cells": [
  {
   "cell_type": "code",
   "execution_count": 1,
   "metadata": {},
   "outputs": [],
   "source": [
    "import numpy as np\n",
    "from Models.NaiveBayesianClassifier import *"
   ]
  },
  {
   "cell_type": "code",
   "execution_count": 2,
   "metadata": {},
   "outputs": [
    {
     "data": {
      "text/plain": "array([3, 1])"
     },
     "execution_count": 2,
     "metadata": {},
     "output_type": "execute_result"
    }
   ],
   "source": [
    "NB = Bernoulli()\n",
    "X = np.array([[3,2,3],[3,2,1],[3,3,1],[2,2,3], [1,2,2], [1,1,3]])\n",
    "y = np.array([1,1,3,3,3,1])\n",
    "NB.fit(X, y)\n",
    "NB.predict(np.array([[3,3,1],[3,2,3]]))"
   ]
  },
  {
   "cell_type": "code",
   "execution_count": 2,
   "metadata": {},
   "outputs": [
    {
     "data": {
      "text/plain": "array([3, 1])"
     },
     "execution_count": 2,
     "metadata": {},
     "output_type": "execute_result"
    }
   ],
   "source": [
    "NB = Gaussian()\n",
    "X = np.array([[3,2,3],[3,2,1],[3,3,1],[2,2,3], [1,2,2], [1,1,3]])\n",
    "y = np.array([1,1,3,3,3,1])\n",
    "NB.fit(X, y)\n",
    "NB.predict(np.array([[3,3,1],[3,2,3]]))"
   ]
  },
  {
   "cell_type": "code",
   "execution_count": null,
   "metadata": {},
   "outputs": [],
   "source": []
  }
 ]
}