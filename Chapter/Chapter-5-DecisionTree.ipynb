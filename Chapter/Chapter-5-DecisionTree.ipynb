{
 "nbformat": 4,
 "nbformat_minor": 2,
 "metadata": {
  "language_info": {
   "name": "python",
   "codemirror_mode": {
    "name": "ipython",
    "version": 3
   },
   "version": "3.7.4-final"
  },
  "orig_nbformat": 2,
  "file_extension": ".py",
  "mimetype": "text/x-python",
  "name": "python",
  "npconvert_exporter": "python",
  "pygments_lexer": "ipython3",
  "version": 3,
  "kernelspec": {
   "name": "python37464bitbaseconda0c8cb556295c44719dd6dd7f140f6a1f",
   "display_name": "Python 3.7.4 64-bit ('base': conda)"
  }
 },
 "cells": [
  {
   "cell_type": "code",
   "execution_count": 1,
   "metadata": {},
   "outputs": [],
   "source": [
    "import numpy as np\n",
    "import pandas as pd\n",
    "\n",
    "from Tools.sample import *\n",
    "from Tools.visualization import *\n",
    "from Models.DecisionTree import *"
   ]
  },
  {
   "cell_type": "code",
   "execution_count": 9,
   "metadata": {},
   "outputs": [],
   "source": [
    "decode = {\n",
    "    'class':{'e':'edible','p':'poisonous'},\n",
    "    'cap_shape':{'b':'bell','c':'conical','x':'convex',\n",
    "                 'f':'flat','k':'knobbed','s':'sunken'},\n",
    "    'cap_surface':{'f':'fibrous','g':'grooves',\n",
    "                   'y':'scaly','s':'smooth'},\n",
    "    'cap_color':{'n':'brown','b':'buff','c':'cinnamon','g':'gray',\n",
    "                 'r':'green','p':'pink','u':'purple','e':'red',\n",
    "                 'w':'white','y':'yellow'},\n",
    "    'bruises':{'t':'bruises','f':'no'},\n",
    "    'odor':{'a':'almond','l':'anise','c':'creosote',\n",
    "            'y':'fishy','f':'foul','m':'musty',\n",
    "            'n':'none','p':'pungent','s':'spicy'},\n",
    "    'gill_attachment':{'a':'attached','d':'descending',\n",
    "                       'f':'free','n':'notched'},\n",
    "    'gill_spacing':{'c':'close','w':'crowded','d':'distant'},\n",
    "    'gill_size':{'b':'broad','n':'narrow'},\n",
    "    'gill_color':{'k':'black','n':'brown','b':'buff','h':'chocolate',\n",
    "                  'g':'gray','r':'green','o':'orange','p':'pink',\n",
    "                  'u':'purple','e':'red','w':'white','y':'yellow'},\n",
    "    'stalk_shape':{'e':'enlarging','t':'tapering'},\n",
    "    'stalk_root':{'b':'bulbous','c':'club','u':'cup','e':'equal',\n",
    "                  'z':'rhizomorphs','r':'rooted','?':'missing'},\n",
    "    'stalk_surface_above_ring':{'f':'fibrous','y':'scaly',\n",
    "                                'k':'silky','s':'smooth'},\n",
    "    'stalk_surface_below_ring':{'f':'fibrous','y':'scaly',\n",
    "                                'k':'silky','s':'smooth'},\n",
    "    'stalk_color_above_ring':{'n':'brown','b':'buff','c':'cinnamon',\n",
    "                              'g':'gray','o':'orange','p':'pink',\n",
    "                              'e':'red','w':'white','y':'yellow'},\n",
    "    'stalk_color_below_ring':{'n':'brown','b':'buff','c':'cinnamon',\n",
    "                              'g':'gray','o':'orange','p':'pink',\n",
    "                              'e':'red','w':'white','y':'yellow'},\n",
    "    'veil_type':{'p':'partial','u':'universal'},\n",
    "    'veil_color':{'n':'brown','o':'orange','w':'white','y':'yellow'},\n",
    "    'ring_number':{'n':'none','o':'one','t':'two'},\n",
    "    'ring_type':{'c':'cobwebby','e':'evanescent','f':'flaring','l':'large',\n",
    "                 'n':'none','p':'pendant','s':'sheathing','z':'zone'},\n",
    "    'spore_print_color':{'k':'black','n':'brown','b':'buff','h':'chocolate',\n",
    "                         'r':'green','o':'orange','u':'purple',\n",
    "                         'w':'white','y':'yellow'},\n",
    "    'population':{'a':'abundant','c':'clustered','n':'numerous',\n",
    "                  's':'scattered','v':'several','y':'solitary'},\n",
    "    'habitat':{'g':'grasses','l':'leaves','m':'meadows',\n",
    "               'p':'paths','u':'urban','w':'waste','d':'woods'}\n",
    "}"
   ]
  },
  {
   "cell_type": "code",
   "execution_count": 10,
   "metadata": {},
   "outputs": [],
   "source": [
    "columns = ['class','cap_shape', 'cap_surface', 'cap_color', 'bruises', 'odor', \n",
    "           'gill_attachment', 'gill_spacing', 'gill_size', 'gill_color', \n",
    "           'stalk_shape', 'stalk_root', 'stalk_surface_above_ring', \n",
    "           'stalk_surface_below_ring', 'stalk_color_above_ring', \n",
    "           'stalk_color_below_ring', 'veil_type', 'veil_color', 'ring_number',\n",
    "           'ring_type', 'spore_print_color', 'population', 'habitat']"
   ]
  },
  {
   "cell_type": "code",
   "execution_count": 11,
   "metadata": {},
   "outputs": [
    {
     "data": {
      "text/html": "<div>\n<style scoped>\n    .dataframe tbody tr th:only-of-type {\n        vertical-align: middle;\n    }\n\n    .dataframe tbody tr th {\n        vertical-align: top;\n    }\n\n    .dataframe thead th {\n        text-align: right;\n    }\n</style>\n<table border=\"1\" class=\"dataframe\">\n  <thead>\n    <tr style=\"text-align: right;\">\n      <th></th>\n      <th>0</th>\n      <th>1</th>\n      <th>2</th>\n      <th>3</th>\n      <th>4</th>\n      <th>5</th>\n      <th>6</th>\n      <th>7</th>\n    </tr>\n  </thead>\n  <tbody>\n    <tr>\n      <td>class</td>\n      <td>poisonous</td>\n      <td>edible</td>\n      <td>edible</td>\n      <td>poisonous</td>\n      <td>edible</td>\n      <td>edible</td>\n      <td>edible</td>\n      <td>edible</td>\n    </tr>\n    <tr>\n      <td>cap_shape</td>\n      <td>convex</td>\n      <td>convex</td>\n      <td>bell</td>\n      <td>convex</td>\n      <td>convex</td>\n      <td>convex</td>\n      <td>bell</td>\n      <td>bell</td>\n    </tr>\n    <tr>\n      <td>cap_surface</td>\n      <td>smooth</td>\n      <td>smooth</td>\n      <td>smooth</td>\n      <td>scaly</td>\n      <td>smooth</td>\n      <td>scaly</td>\n      <td>smooth</td>\n      <td>scaly</td>\n    </tr>\n    <tr>\n      <td>cap_color</td>\n      <td>brown</td>\n      <td>yellow</td>\n      <td>white</td>\n      <td>white</td>\n      <td>gray</td>\n      <td>yellow</td>\n      <td>white</td>\n      <td>white</td>\n    </tr>\n    <tr>\n      <td>bruises</td>\n      <td>bruises</td>\n      <td>bruises</td>\n      <td>bruises</td>\n      <td>bruises</td>\n      <td>no</td>\n      <td>bruises</td>\n      <td>bruises</td>\n      <td>bruises</td>\n    </tr>\n    <tr>\n      <td>odor</td>\n      <td>pungent</td>\n      <td>almond</td>\n      <td>anise</td>\n      <td>pungent</td>\n      <td>none</td>\n      <td>almond</td>\n      <td>almond</td>\n      <td>anise</td>\n    </tr>\n    <tr>\n      <td>gill_attachment</td>\n      <td>free</td>\n      <td>free</td>\n      <td>free</td>\n      <td>free</td>\n      <td>free</td>\n      <td>free</td>\n      <td>free</td>\n      <td>free</td>\n    </tr>\n    <tr>\n      <td>gill_spacing</td>\n      <td>close</td>\n      <td>close</td>\n      <td>close</td>\n      <td>close</td>\n      <td>crowded</td>\n      <td>close</td>\n      <td>close</td>\n      <td>close</td>\n    </tr>\n    <tr>\n      <td>gill_size</td>\n      <td>narrow</td>\n      <td>broad</td>\n      <td>broad</td>\n      <td>narrow</td>\n      <td>broad</td>\n      <td>broad</td>\n      <td>broad</td>\n      <td>broad</td>\n    </tr>\n    <tr>\n      <td>gill_color</td>\n      <td>black</td>\n      <td>black</td>\n      <td>brown</td>\n      <td>brown</td>\n      <td>black</td>\n      <td>brown</td>\n      <td>gray</td>\n      <td>brown</td>\n    </tr>\n    <tr>\n      <td>stalk_shape</td>\n      <td>enlarging</td>\n      <td>enlarging</td>\n      <td>enlarging</td>\n      <td>enlarging</td>\n      <td>tapering</td>\n      <td>enlarging</td>\n      <td>enlarging</td>\n      <td>enlarging</td>\n    </tr>\n    <tr>\n      <td>stalk_root</td>\n      <td>equal</td>\n      <td>club</td>\n      <td>club</td>\n      <td>equal</td>\n      <td>equal</td>\n      <td>club</td>\n      <td>club</td>\n      <td>club</td>\n    </tr>\n    <tr>\n      <td>stalk_surface_above_ring</td>\n      <td>smooth</td>\n      <td>smooth</td>\n      <td>smooth</td>\n      <td>smooth</td>\n      <td>smooth</td>\n      <td>smooth</td>\n      <td>smooth</td>\n      <td>smooth</td>\n    </tr>\n    <tr>\n      <td>stalk_surface_below_ring</td>\n      <td>smooth</td>\n      <td>smooth</td>\n      <td>smooth</td>\n      <td>smooth</td>\n      <td>smooth</td>\n      <td>smooth</td>\n      <td>smooth</td>\n      <td>smooth</td>\n    </tr>\n    <tr>\n      <td>stalk_color_above_ring</td>\n      <td>white</td>\n      <td>white</td>\n      <td>white</td>\n      <td>white</td>\n      <td>white</td>\n      <td>white</td>\n      <td>white</td>\n      <td>white</td>\n    </tr>\n    <tr>\n      <td>stalk_color_below_ring</td>\n      <td>white</td>\n      <td>white</td>\n      <td>white</td>\n      <td>white</td>\n      <td>white</td>\n      <td>white</td>\n      <td>white</td>\n      <td>white</td>\n    </tr>\n    <tr>\n      <td>veil_type</td>\n      <td>partial</td>\n      <td>partial</td>\n      <td>partial</td>\n      <td>partial</td>\n      <td>partial</td>\n      <td>partial</td>\n      <td>partial</td>\n      <td>partial</td>\n    </tr>\n    <tr>\n      <td>veil_color</td>\n      <td>white</td>\n      <td>white</td>\n      <td>white</td>\n      <td>white</td>\n      <td>white</td>\n      <td>white</td>\n      <td>white</td>\n      <td>white</td>\n    </tr>\n    <tr>\n      <td>ring_number</td>\n      <td>one</td>\n      <td>one</td>\n      <td>one</td>\n      <td>one</td>\n      <td>one</td>\n      <td>one</td>\n      <td>one</td>\n      <td>one</td>\n    </tr>\n    <tr>\n      <td>ring_type</td>\n      <td>pendant</td>\n      <td>pendant</td>\n      <td>pendant</td>\n      <td>pendant</td>\n      <td>evanescent</td>\n      <td>pendant</td>\n      <td>pendant</td>\n      <td>pendant</td>\n    </tr>\n    <tr>\n      <td>spore_print_color</td>\n      <td>black</td>\n      <td>brown</td>\n      <td>brown</td>\n      <td>black</td>\n      <td>brown</td>\n      <td>black</td>\n      <td>black</td>\n      <td>brown</td>\n    </tr>\n    <tr>\n      <td>population</td>\n      <td>scattered</td>\n      <td>numerous</td>\n      <td>numerous</td>\n      <td>scattered</td>\n      <td>abundant</td>\n      <td>numerous</td>\n      <td>numerous</td>\n      <td>scattered</td>\n    </tr>\n    <tr>\n      <td>habitat</td>\n      <td>urban</td>\n      <td>grasses</td>\n      <td>meadows</td>\n      <td>urban</td>\n      <td>grasses</td>\n      <td>grasses</td>\n      <td>meadows</td>\n      <td>meadows</td>\n    </tr>\n  </tbody>\n</table>\n</div>",
      "text/plain": "                                  0          1          2          3  \\\nclass                     poisonous     edible     edible  poisonous   \ncap_shape                    convex     convex       bell     convex   \ncap_surface                  smooth     smooth     smooth      scaly   \ncap_color                     brown     yellow      white      white   \nbruises                     bruises    bruises    bruises    bruises   \nodor                        pungent     almond      anise    pungent   \ngill_attachment                free       free       free       free   \ngill_spacing                  close      close      close      close   \ngill_size                    narrow      broad      broad     narrow   \ngill_color                    black      black      brown      brown   \nstalk_shape               enlarging  enlarging  enlarging  enlarging   \nstalk_root                    equal       club       club      equal   \nstalk_surface_above_ring     smooth     smooth     smooth     smooth   \nstalk_surface_below_ring     smooth     smooth     smooth     smooth   \nstalk_color_above_ring        white      white      white      white   \nstalk_color_below_ring        white      white      white      white   \nveil_type                   partial    partial    partial    partial   \nveil_color                    white      white      white      white   \nring_number                     one        one        one        one   \nring_type                   pendant    pendant    pendant    pendant   \nspore_print_color             black      brown      brown      black   \npopulation                scattered   numerous   numerous  scattered   \nhabitat                       urban    grasses    meadows      urban   \n\n                                   4          5          6          7  \nclass                         edible     edible     edible     edible  \ncap_shape                     convex     convex       bell       bell  \ncap_surface                   smooth      scaly     smooth      scaly  \ncap_color                       gray     yellow      white      white  \nbruises                           no    bruises    bruises    bruises  \nodor                            none     almond     almond      anise  \ngill_attachment                 free       free       free       free  \ngill_spacing                 crowded      close      close      close  \ngill_size                      broad      broad      broad      broad  \ngill_color                     black      brown       gray      brown  \nstalk_shape                 tapering  enlarging  enlarging  enlarging  \nstalk_root                     equal       club       club       club  \nstalk_surface_above_ring      smooth     smooth     smooth     smooth  \nstalk_surface_below_ring      smooth     smooth     smooth     smooth  \nstalk_color_above_ring         white      white      white      white  \nstalk_color_below_ring         white      white      white      white  \nveil_type                    partial    partial    partial    partial  \nveil_color                     white      white      white      white  \nring_number                      one        one        one        one  \nring_type                 evanescent    pendant    pendant    pendant  \nspore_print_color              brown      black      black      brown  \npopulation                  abundant   numerous   numerous  scattered  \nhabitat                      grasses    grasses    meadows    meadows  "
     },
     "execution_count": 11,
     "metadata": {},
     "output_type": "execute_result"
    }
   ],
   "source": [
    "# https://archive.ics.uci.edu/ml/datasets/Mushroom\n",
    "data = pd.read_csv('Dataset/agaricus-lepiota.csv', header=None)\n",
    "data.columns = columns\n",
    "for col in columns:\n",
    "    data[col] = data[col].apply(lambda x: decode[col][x])\n",
    "\n",
    "data.head(8).T"
   ]
  },
  {
   "cell_type": "code",
   "execution_count": 6,
   "metadata": {},
   "outputs": [],
   "source": [
    "y = 1*(data['class'].values == 'e')\n",
    "X = data[data.columns[1:]].values\n",
    "X_train, X_test, y_train, y_test = split_train_test(X, y, 0.3)"
   ]
  },
  {
   "cell_type": "code",
   "execution_count": 7,
   "metadata": {},
   "outputs": [],
   "source": [
    "dt = DecisionTree('ID3')\n",
    "dt.fit(X_train, y_train)"
   ]
  },
  {
   "cell_type": "code",
   "execution_count": 8,
   "metadata": {},
   "outputs": [
    {
     "name": "stdout",
     "output_type": "stream",
     "text": "Training score: 1.0\nTesting score: 1.0\n"
    }
   ],
   "source": [
    "print('Training score: %s\\nTesting score: %s' % (dt.score(X_train, y_train), \n",
    "                                                 dt.score(X_test, y_test)))"
   ]
  },
  {
   "cell_type": "code",
   "execution_count": null,
   "metadata": {},
   "outputs": [],
   "source": []
  }
 ]
}